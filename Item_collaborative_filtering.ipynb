{
  "nbformat": 4,
  "nbformat_minor": 0,
  "metadata": {
    "colab": {
      "name": "Item_collaborative_filtering.ipynb",
      "provenance": [],
      "collapsed_sections": []
    },
    "kernelspec": {
      "name": "python3",
      "display_name": "Python 3"
    }
  },
  "cells": [
    {
      "cell_type": "code",
      "metadata": {
        "id": "4t6RAVl4GJvz",
        "colab_type": "code",
        "outputId": "efc021cd-5860-49d5-ad61-5f61d563d6a9",
        "colab": {
          "base_uri": "https://localhost:8080/",
          "height": 126
        }
      },
      "source": [
        "!pip install surprise"
      ],
      "execution_count": 0,
      "outputs": [
        {
          "output_type": "stream",
          "text": [
            "Requirement already satisfied: surprise in /usr/local/lib/python3.6/dist-packages (0.1)\n",
            "Requirement already satisfied: scikit-surprise in /usr/local/lib/python3.6/dist-packages (from surprise) (1.1.0)\n",
            "Requirement already satisfied: joblib>=0.11 in /usr/local/lib/python3.6/dist-packages (from scikit-surprise->surprise) (0.14.1)\n",
            "Requirement already satisfied: scipy>=1.0.0 in /usr/local/lib/python3.6/dist-packages (from scikit-surprise->surprise) (1.4.1)\n",
            "Requirement already satisfied: numpy>=1.11.2 in /usr/local/lib/python3.6/dist-packages (from scikit-surprise->surprise) (1.18.2)\n",
            "Requirement already satisfied: six>=1.10.0 in /usr/local/lib/python3.6/dist-packages (from scikit-surprise->surprise) (1.12.0)\n"
          ],
          "name": "stdout"
        }
      ]
    },
    {
      "cell_type": "code",
      "metadata": {
        "id": "p8VNvhFTGNJJ",
        "colab_type": "code",
        "outputId": "08c69023-f40c-4664-e98e-afbbcd3d77f2",
        "colab": {
          "base_uri": "https://localhost:8080/",
          "height": 35
        }
      },
      "source": [
        "from google.colab import drive\n",
        "drive.mount('/content/drive')"
      ],
      "execution_count": 0,
      "outputs": [
        {
          "output_type": "stream",
          "text": [
            "Drive already mounted at /content/drive; to attempt to forcibly remount, call drive.mount(\"/content/drive\", force_remount=True).\n"
          ],
          "name": "stdout"
        }
      ]
    },
    {
      "cell_type": "code",
      "metadata": {
        "id": "fx4NCnZXGNPV",
        "colab_type": "code",
        "colab": {}
      },
      "source": [
        "from surprise import Dataset, Reader, KNNBasic\n",
        "from collections import defaultdict\n",
        "from operator import itemgetter\n",
        "import os, csv, sys"
      ],
      "execution_count": 0,
      "outputs": []
    },
    {
      "cell_type": "code",
      "metadata": {
        "id": "eQnXKqvNGOJG",
        "colab_type": "code",
        "colab": {}
      },
      "source": [
        "class Films:\n",
        "    film_Label = {}\n",
        "    label_Film = {}\n",
        "    link1 = '/content/drive/My Drive/ml-latest-small/ratings_after_wrangling.csv'\n",
        "    link2 = '/content/drive/My Drive/ml-latest-small/movies.csv'\n",
        "\n",
        "    def download(self):\n",
        "\n",
        "        # Look for files relative to the directory we are running from\n",
        "        os.chdir(os.path.dirname(sys.argv[0]))\n",
        "\n",
        "        ratingsDataset = 0\n",
        "        self.film_Label = {}\n",
        "        self.label_Film = {}\n",
        "\n",
        "        reader = Reader(line_format='user item rating timestamp', sep=',', skip_lines=1)\n",
        "\n",
        "        ratingsDataset = Dataset.load_from_file(self.link1, reader=reader)\n",
        "\n",
        "        with open(self.link2, newline='', encoding='ISO-8859-1') as csvfile:\n",
        "            movieReader = csv.reader(csvfile)\n",
        "            next(movieReader)  # Skip header line\n",
        "            for row in movieReader:\n",
        "                movieID = int(row[0])\n",
        "                movieName = row[1]\n",
        "                self.film_Label[movieID] = movieName\n",
        "                self.label_Film[movieName] = movieID\n",
        "\n",
        "        return ratingsDataset\n",
        "\n",
        "    def filmLabel(self, movieID):\n",
        "        if movieID in self.film_Label:\n",
        "            return self.film_Label[movieID]\n",
        "        else:\n",
        "            return \"\"\n",
        "\n",
        "\n",
        "\n"
      ],
      "execution_count": 0,
      "outputs": []
    },
    {
      "cell_type": "code",
      "metadata": {
        "id": "qR-9dn-JGqkX",
        "colab_type": "code",
        "colab": {}
      },
      "source": [
        "\n",
        "USER = '70'\n",
        "k = 10\n",
        "\n",
        "ml = Films()\n",
        "data = ml.download()\n",
        "trainSet = data.build_full_trainset()\n",
        "\n",
        "sim_options = {'name': 'cosine',\n",
        "               'user_based': False\n",
        "               }\n"
      ],
      "execution_count": 0,
      "outputs": []
    },
    {
      "cell_type": "code",
      "metadata": {
        "id": "h6_dutYQG6Mb",
        "colab_type": "code",
        "outputId": "e09be223-f0c9-4a57-8eff-f6c0e10c104c",
        "colab": {
          "base_uri": "https://localhost:8080/",
          "height": 90
        }
      },
      "source": [
        "model = KNNBasic(sim_options=sim_options)\n",
        "model.fit(trainSet)\n",
        "simsMatrix = model.compute_similarities()\n",
        "\n",
        "testUserInnerID = trainSet.to_inner_uid(USER)\n"
      ],
      "execution_count": 0,
      "outputs": [
        {
          "output_type": "stream",
          "text": [
            "Computing the cosine similarity matrix...\n",
            "Done computing similarity matrix.\n",
            "Computing the cosine similarity matrix...\n",
            "Done computing similarity matrix.\n"
          ],
          "name": "stdout"
        }
      ]
    },
    {
      "cell_type": "markdown",
      "metadata": {
        "id": "eSxjVsx8fu2t",
        "colab_type": "text"
      },
      "source": [
        "Get the top K items we rated"
      ]
    },
    {
      "cell_type": "code",
      "metadata": {
        "id": "x7gGgWgiG6XQ",
        "colab_type": "code",
        "colab": {}
      },
      "source": [
        "testUserRatings = trainSet.ur[testUserInnerID]\n",
        "kNeighbors =[]\n",
        "for rating in testUserRatings:\n",
        "    if rating[1] > 4.0:\n",
        "        kNeighbors.append(rating)"
      ],
      "execution_count": 0,
      "outputs": []
    },
    {
      "cell_type": "markdown",
      "metadata": {
        "id": "vaa4Hc4PfroD",
        "colab_type": "text"
      },
      "source": [
        "Get similar items to stuff we liked (weighted by rating)"
      ]
    },
    {
      "cell_type": "code",
      "metadata": {
        "id": "Ol1QDNqdG6Zf",
        "colab_type": "code",
        "colab": {}
      },
      "source": [
        "candidates = defaultdict(float)\n",
        "for itemID, rating in kNeighbors:\n",
        "    similarityRow = simsMatrix[itemID]\n",
        "    for innerID, score in enumerate(similarityRow):\n",
        "        candidates[innerID] += score * (rating / 5.0)\n"
      ],
      "execution_count": 0,
      "outputs": []
    },
    {
      "cell_type": "markdown",
      "metadata": {
        "id": "bIhim47TfoY8",
        "colab_type": "text"
      },
      "source": [
        "Build a dictionary of stuff the user has already seen"
      ]
    },
    {
      "cell_type": "code",
      "metadata": {
        "id": "gvPfwo9cG6dK",
        "colab_type": "code",
        "colab": {}
      },
      "source": [
        "watched = {}\n",
        "for itemID, rating in trainSet.ur[testUserInnerID]:\n",
        "    watched[itemID] = 1\n"
      ],
      "execution_count": 0,
      "outputs": []
    },
    {
      "cell_type": "markdown",
      "metadata": {
        "id": "9ndYfnkzfkP_",
        "colab_type": "text"
      },
      "source": [
        "Get top-rated items from similar users:"
      ]
    },
    {
      "cell_type": "code",
      "metadata": {
        "id": "0h1tTpKwHCKh",
        "colab_type": "code",
        "outputId": "aa55d89a-ee11-46d8-f2ae-924652da8224",
        "colab": {
          "base_uri": "https://localhost:8080/",
          "height": 126
        }
      },
      "source": [
        "pos = 0\n",
        "for itemID, ratingSum in sorted(candidates.items(), key=itemgetter(1), reverse=True):\n",
        "    if not itemID in watched:\n",
        "        movieID = trainSet.to_raw_iid(itemID)\n",
        "        print(ml.filmLabel(int(movieID)), ratingSum)\n",
        "        pos += 1\n",
        "        if (pos > 5):\n",
        "            break"
      ],
      "execution_count": 0,
      "outputs": [
        {
          "output_type": "stream",
          "text": [
            "Only Angels Have Wings (1939) 33.94475384724753\n",
            "Yankee Doodle Dandy (1942) 33.944753847247526\n",
            "Little Women (1949) 33.944753847247526\n",
            "Mr. Deeds Goes to Town (1936) 33.944753847247526\n",
            "Asphalt Jungle, The (1950) 33.93620814279008\n",
            "Destry Rides Again (1939) 33.923282171036185\n"
          ],
          "name": "stdout"
        }
      ]
    }
  ]
}