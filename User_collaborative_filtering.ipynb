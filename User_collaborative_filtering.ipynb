{
  "nbformat": 4,
  "nbformat_minor": 0,
  "metadata": {
    "colab": {
      "name": "User_collaborative_filtering.ipynb",
      "provenance": [],
      "collapsed_sections": [],
      "toc_visible": true
    },
    "kernelspec": {
      "name": "python3",
      "display_name": "Python 3"
    }
  },
  "cells": [
    {
      "cell_type": "code",
      "metadata": {
        "id": "vGZLDjvuIcJG",
        "colab_type": "code",
        "colab": {}
      },
      "source": [
        "!pip install surprise\n",
        "from surprise import KNNBasic, Reader, Dataset\n",
        "from collections import defaultdict\n",
        "from operator import itemgetter\n",
        "import csv, sys, os\n",
        "import heapq"
      ],
      "execution_count": 0,
      "outputs": []
    },
    {
      "cell_type": "code",
      "metadata": {
        "id": "ABKTucIYF-rP",
        "colab_type": "code",
        "outputId": "4657b4aa-b121-432d-ea24-1e69e6c63abc",
        "colab": {
          "base_uri": "https://localhost:8080/",
          "height": 55
        }
      },
      "source": [
        "from google.colab import drive\n",
        "drive.mount('/content/drive')"
      ],
      "execution_count": 0,
      "outputs": [
        {
          "output_type": "stream",
          "text": [
            "Drive already mounted at /content/drive; to attempt to forcibly remount, call drive.mount(\"/content/drive\", force_remount=True).\n"
          ],
          "name": "stdout"
        }
      ]
    },
    {
      "cell_type": "code",
      "metadata": {
        "id": "-lQGjNhnImjp",
        "colab_type": "code",
        "colab": {}
      },
      "source": [
        "class Films:\n",
        "    film_Label = {}\n",
        "    label_Film = {}\n",
        "    link1 = '/content/drive/My Drive/ml-latest-small/ratings_after_wrangling.csv'\n",
        "    link2 = '/content/drive/My Drive/ml-latest-small/movies.csv'\n",
        "    \n",
        "    def download(self):\n",
        "\n",
        "        # Look for files relative to the directory we are running from\n",
        "        os.chdir(os.path.dirname(sys.argv[0]))\n",
        "\n",
        "        ratingsDataset = 0\n",
        "        self.film_Label = {}\n",
        "        self.label_Film = {}\n",
        "\n",
        "        reader = Reader(line_format='user item rating timestamp', sep=',', skip_lines=1)\n",
        "\n",
        "        ratingsDataset = Dataset.load_from_file(self.link1, reader=reader)\n",
        "\n",
        "        with open(self.link2, newline='', encoding='ISO-8859-1') as csvfile:\n",
        "            movieReader = csv.reader(csvfile)\n",
        "            next(movieReader)  # Skip header line\n",
        "            for row in movieReader:\n",
        "                movieID = int(row[0])\n",
        "                movieName = row[1]\n",
        "                self.film_Label[movieID] = movieName\n",
        "                self.label_Film[movieName] = movieID\n",
        "\n",
        "        return ratingsDataset\n",
        "\n",
        "    def filmLabel(self, movieID):\n",
        "        if movieID in self.film_Label:\n",
        "            return self.film_Label[movieID]\n",
        "        else:\n",
        "            return \"\""
      ],
      "execution_count": 0,
      "outputs": []
    },
    {
      "cell_type": "markdown",
      "metadata": {
        "id": "0_aO7kYYIvck",
        "colab_type": "text"
      },
      "source": [
        "# DashBoard"
      ]
    },
    {
      "cell_type": "markdown",
      "metadata": {
        "id": "S7ilFsgNfCon",
        "colab_type": "text"
      },
      "source": [
        "Load our data set and compute the user similarity matrix"
      ]
    },
    {
      "cell_type": "code",
      "metadata": {
        "id": "rDH1BomYIuzX",
        "colab_type": "code",
        "colab": {}
      },
      "source": [
        "USER = '70'\n",
        "k = 10\n",
        "ml = Films()\n",
        "data = ml.download()\n",
        "\n",
        "trainSet = data.build_full_trainset()\n",
        "\n",
        "sim_options = {'name': 'cosine',\n",
        "               'user_based': True\n",
        "               }"
      ],
      "execution_count": 0,
      "outputs": []
    },
    {
      "cell_type": "code",
      "metadata": {
        "id": "OKJFOW2RI37K",
        "colab_type": "code",
        "outputId": "3f317e9b-b8d0-4fe7-9871-1b6639587b12",
        "colab": {
          "base_uri": "https://localhost:8080/",
          "height": 90
        }
      },
      "source": [
        "model = KNNBasic(sim_options=sim_options)\n",
        "model.fit(trainSet)\n",
        "simsMatrix = model.compute_similarities()\n"
      ],
      "execution_count": 0,
      "outputs": [
        {
          "output_type": "stream",
          "text": [
            "Computing the cosine similarity matrix...\n",
            "Done computing similarity matrix.\n",
            "Computing the cosine similarity matrix...\n",
            "Done computing similarity matrix.\n"
          ],
          "name": "stdout"
        }
      ]
    },
    {
      "cell_type": "markdown",
      "metadata": {
        "id": "msgK87k7fGVH",
        "colab_type": "text"
      },
      "source": [
        "Get top N similar users to our test subject\n",
        "\n"
      ]
    },
    {
      "cell_type": "code",
      "metadata": {
        "id": "DtJC7vEEI4vt",
        "colab_type": "code",
        "colab": {}
      },
      "source": [
        "testUserInnerID = trainSet.to_inner_uid(USER)\n",
        "similarityRow = simsMatrix[testUserInnerID]\n",
        "\n",
        "similarUsers = []\n",
        "for innerID, score in enumerate(similarityRow):\n",
        "    if (innerID != testUserInnerID):\n",
        "        similarUsers.append((innerID, score))\n",
        "\n",
        "kNeighbors = heapq.nlargest(k, similarUsers, key=lambda t: t[1])\n",
        "\n",
        "\n"
      ],
      "execution_count": 0,
      "outputs": []
    },
    {
      "cell_type": "markdown",
      "metadata": {
        "id": "PkAahLYYfUWC",
        "colab_type": "text"
      },
      "source": [
        "Get the stuff they rated, and add up ratings for each item, weighted by user similarity"
      ]
    },
    {
      "cell_type": "code",
      "metadata": {
        "id": "0wuZMUGXI8hB",
        "colab_type": "code",
        "colab": {}
      },
      "source": [
        "candidates = defaultdict(float)\n",
        "for similarUser in kNeighbors:\n",
        "    innerID = similarUser[0]\n",
        "    userSimilarityScore = similarUser[1]\n",
        "    theirRatings = trainSet.ur[innerID]\n",
        "    for rating in theirRatings:\n",
        "        candidates[rating[0]] += (rating[1] / 5.0) * userSimilarityScore"
      ],
      "execution_count": 0,
      "outputs": []
    },
    {
      "cell_type": "markdown",
      "metadata": {
        "id": "TWAede25fZ2L",
        "colab_type": "text"
      },
      "source": [
        "Build a dictionary of stuff the user has already seen"
      ]
    },
    {
      "cell_type": "code",
      "metadata": {
        "id": "GqK5zZqcI9pM",
        "colab_type": "code",
        "colab": {}
      },
      "source": [
        "watched = {}\n",
        "for itemID, rating in trainSet.ur[testUserInnerID]:\n",
        "    watched[itemID] = 1"
      ],
      "execution_count": 0,
      "outputs": []
    },
    {
      "cell_type": "markdown",
      "metadata": {
        "id": "RDUgIyzXfeSz",
        "colab_type": "text"
      },
      "source": [
        "Get top-rated items from similar users:"
      ]
    },
    {
      "cell_type": "code",
      "metadata": {
        "id": "lEMd4crXI9t2",
        "colab_type": "code",
        "outputId": "94fa3b06-0817-4af8-9ff5-852d6c305148",
        "colab": {
          "base_uri": "https://localhost:8080/",
          "height": 127
        }
      },
      "source": [
        "pos = 0\n",
        "for itemID, ratingSum in sorted(candidates.items(), key=itemgetter(1), reverse=True):\n",
        "    if not itemID in watched:\n",
        "        movieID = trainSet.to_raw_iid(itemID)\n",
        "        print(ml.filmLabel(int(movieID)), ratingSum)\n",
        "        pos += 1\n",
        "        if (pos > 5):\n",
        "            break"
      ],
      "execution_count": 0,
      "outputs": [
        {
          "output_type": "stream",
          "text": [
            "Fugitive, The (1993) 5.2\n",
            "Die Hard: With a Vengeance (1995) 4.800000000000001\n",
            "Twister (1996) 4.8\n",
            "Firm, The (1993) 4.6\n",
            "True Lies (1994) 4.5\n",
            "Silence of the Lambs, The (1991) 4.4\n"
          ],
          "name": "stdout"
        }
      ]
    }
  ]
}